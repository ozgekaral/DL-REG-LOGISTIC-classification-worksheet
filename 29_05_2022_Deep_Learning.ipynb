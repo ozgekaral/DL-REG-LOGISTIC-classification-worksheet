{
  "nbformat": 4,
  "nbformat_minor": 0,
  "metadata": {
    "colab": {
      "provenance": []
    },
    "kernelspec": {
      "name": "python3",
      "display_name": "Python 3"
    },
    "language_info": {
      "name": "python"
    },
    "accelerator": "GPU"
  },
  "cells": [
    {
      "cell_type": "code",
      "execution_count": null,
      "metadata": {
        "id": "hv-wl8qUIs79"
      },
      "outputs": [],
      "source": [
        "import numpy as np\n",
        "import pandas as pd\n",
        "import matplotlib.pyplot as plt\n",
        "\n",
        "import tensorflow as tf\n",
        "from tensorflow import keras\n",
        "from tensorflow.keras import layers"
      ]
    },
    {
      "cell_type": "markdown",
      "source": [
        "## Deep Learning for Regression"
      ],
      "metadata": {
        "id": "4rUbb3qxJoXc"
      }
    },
    {
      "cell_type": "code",
      "source": [
        "from sklearn.datasets import load_diabetes\n",
        "from sklearn.model_selection import train_test_split\n",
        "\n",
        "data = load_diabetes()\n",
        "\n",
        "X = data[\"data\"]\n",
        "y = data[\"target\"]\n",
        "\n",
        "X_train, X_test, y_train, y_test = train_test_split(X, y, test_size=0.3, random_state=42)\n",
        "\n",
        "mu = X_train.mean(axis = 0)\n",
        "sigma = X_train.std(axis = 0)\n",
        "\n",
        "X_train = (X_train - mu) / sigma\n",
        "X_test = (X_test - mu) / sigma\n",
        "X_train.shape"
      ],
      "metadata": {
        "colab": {
          "base_uri": "https://localhost:8080/"
        },
        "id": "QBMU_BljJroE",
        "outputId": "9959f4bc-2609-4ca9-a29a-ac4ccbb3c144"
      },
      "execution_count": null,
      "outputs": [
        {
          "output_type": "execute_result",
          "data": {
            "text/plain": [
              "(309, 10)"
            ]
          },
          "metadata": {},
          "execution_count": 8
        }
      ]
    },
    {
      "cell_type": "code",
      "source": [
        "mdl = keras.Sequential()\n",
        "\n",
        "mdl.add(layers.Dense(128, activation=\"relu\", input_shape = (X_train.shape[1], ) ))\n",
        "mdl.add(layers.Dense(64, activation = \"relu\"))\n",
        "mdl.add(layers.Dense(1, activation = \"linear\"))\n",
        "\n",
        "mdl.compile(optimizer=\"adam\", loss = \"mse\", metrics = [\"mape\"])\n",
        "mdl.fit(X_train, y_train, epochs=100)"
      ],
      "metadata": {
        "id": "wFTXlntTKxLs"
      },
      "execution_count": null,
      "outputs": []
    },
    {
      "cell_type": "code",
      "source": [
        "ypred = mdl.predict(X_test)\n",
        "plt.plot(y_test, ypred, \"*\")"
      ],
      "metadata": {
        "colab": {
          "base_uri": "https://localhost:8080/",
          "height": 282
        },
        "id": "gZ5ppNxvOFXb",
        "outputId": "4137acf5-42a6-45b5-c20a-73af58bdc62b"
      },
      "execution_count": null,
      "outputs": [
        {
          "output_type": "execute_result",
          "data": {
            "text/plain": [
              "[<matplotlib.lines.Line2D at 0x7f570d64d590>]"
            ]
          },
          "metadata": {},
          "execution_count": 12
        },
        {
          "output_type": "display_data",
          "data": {
            "text/plain": [
              "<Figure size 432x288 with 1 Axes>"
            ],
            "image/png": "[encoded data removed]"
          },
          "metadata": {
            "needs_background": "light"
          }
        }
      ]
    },
    {
      "cell_type": "code",
      "source": [
        "mdl.evaluate(X_test,y_test)"
      ],
      "metadata": {
        "colab": {
          "base_uri": "https://localhost:8080/"
        },
        "id": "-E6AUphXOaL1",
        "outputId": "36aaf43f-781a-42b8-d7df-7c9ce52a5fbc"
      },
      "execution_count": null,
      "outputs": [
        {
          "output_type": "stream",
          "name": "stdout",
          "text": [
            "5/5 [==============================] - 0s 4ms/step - loss: 2965.5583 - mape: 37.7238\n"
          ]
        },
        {
          "output_type": "execute_result",
          "data": {
            "text/plain": [
              "[2965.558349609375, 37.72382736206055]"
            ]
          },
          "metadata": {},
          "execution_count": 13
        }
      ]
    },
    {
      "cell_type": "markdown",
      "source": [
        "## Deep Learning for Binary Classification"
      ],
      "metadata": {
        "id": "mktXBYKnO4X7"
      }
    },
    {
      "cell_type": "code",
      "source": [
        "from sklearn.datasets import load_breast_cancer\n",
        "\n",
        "data = load_breast_cancer()\n",
        "\n",
        "X = data[\"data\"]\n",
        "y = data[\"target\"]\n",
        "\n",
        "X_train, X_test, y_train, y_test = train_test_split(X, y, test_size=0.3, random_state=42)\n",
        "\n",
        "mu = X_train.mean(axis = 0)\n",
        "sigma = X_train.std(axis = 0)\n",
        "\n",
        "X_train = (X_train - mu) / sigma\n",
        "X_test = (X_test - mu) / sigma\n",
        "X_train.shape"
      ],
      "metadata": {
        "colab": {
          "base_uri": "https://localhost:8080/"
        },
        "id": "LWhL5mpbO8LZ",
        "outputId": "9fbe4cfc-a872-427c-aef0-ce0cbee8720f"
      },
      "execution_count": null,
      "outputs": [
        {
          "output_type": "execute_result",
          "data": {
            "text/plain": [
              "(398, 30)"
            ]
          },
          "metadata": {},
          "execution_count": 14
        }
      ]
    },
    {
      "cell_type": "code",
      "source": [
        "mdl = keras.Sequential()\n",
        "\n",
        "mdl.add(layers.Dense(128, activation=\"relu\", input_shape = (X_train.shape[1], ) ))\n",
        "mdl.add(layers.Dense(64, activation = \"relu\"))\n",
        "mdl.add(layers.Dense(1, activation = \"sigmoid\"))\n",
        "\n",
        "mdl.compile(optimizer=\"adam\", loss = \"binary_crossentropy\", metrics = [\"accuracy\"])\n",
        "mdl.fit(X_train, y_train, epochs=100)"
      ],
      "metadata": {
        "id": "nze7MQIdPQn3"
      },
      "execution_count": null,
      "outputs": []
    },
    {
      "cell_type": "code",
      "source": [
        "ypred = mdl.predict(X_test)\n",
        "ypred_label = (ypred > 0.5).astype(\"int\")\n",
        "ypred_label"
      ],
      "metadata": {
        "id": "8LGS1CGKQ6a4"
      },
      "execution_count": null,
      "outputs": []
    },
    {
      "cell_type": "code",
      "source": [
        "mdl.evaluate(X_test, y_test)"
      ],
      "metadata": {
        "colab": {
          "base_uri": "https://localhost:8080/"
        },
        "id": "-Bciks6pSDax",
        "outputId": "726dc8da-0b18-41c8-e216-ecfd15846f3f"
      },
      "execution_count": null,
      "outputs": [
        {
          "output_type": "stream",
          "name": "stdout",
          "text": [
            "6/6 [==============================] - 0s 2ms/step - loss: 0.0960 - accuracy: 0.9825\n"
          ]
        },
        {
          "output_type": "execute_result",
          "data": {
            "text/plain": [
              "[0.09603746980428696, 0.9824561476707458]"
            ]
          },
          "metadata": {},
          "execution_count": 19
        }
      ]
    },
    {
      "cell_type": "markdown",
      "source": [
        "## Deep Learning for Multinomial Classification\n",
        "\n"
      ],
      "metadata": {
        "id": "4FJ2fg1dRiqg"
      }
    },
    {
      "cell_type": "code",
      "source": [
        "from sklearn.datasets import load_iris\n",
        "\n",
        "data = load_iris()\n",
        "\n",
        "X = data[\"data\"]\n",
        "y = data[\"target\"]\n",
        "\n",
        "X_train, X_test, y_train, y_test = train_test_split(X, y, test_size=0.3, random_state=42)\n",
        "\n",
        "mu = X_train.mean(axis = 0)\n",
        "sigma = X_train.std(axis = 0)\n",
        "\n",
        "X_train = (X_train - mu) / sigma\n",
        "X_test = (X_test - mu) / sigma\n",
        "X_train.shape"
      ],
      "metadata": {
        "colab": {
          "base_uri": "https://localhost:8080/"
        },
        "id": "CipEHzoqRnlg",
        "outputId": "a7c16d5f-6a42-434b-9681-ba9e870e4fdc"
      },
      "execution_count": null,
      "outputs": [
        {
          "output_type": "execute_result",
          "data": {
            "text/plain": [
              "(105, 4)"
            ]
          },
          "metadata": {},
          "execution_count": 22
        }
      ]
    },
    {
      "cell_type": "code",
      "source": [
        "mdl = keras.Sequential()\n",
        "\n",
        "mdl.add(layers.Dense(128, activation=\"relu\", input_shape = (X_train.shape[1], ) ))\n",
        "mdl.add(layers.Dense(64, activation = \"relu\"))\n",
        "mdl.add(layers.Dense(3, activation = \"softmax\"))\n",
        "\n",
        "mdl.compile(optimizer=\"adam\", loss = \"sparse_categorical_crossentropy\", metrics = [\"accuracy\"])\n",
        "mdl.fit(X_train, y_train, epochs=100)"
      ],
      "metadata": {
        "id": "-Z30W3-pR89r"
      },
      "execution_count": null,
      "outputs": []
    },
    {
      "cell_type": "code",
      "source": [
        "ypred = mdl.predict(X_test)\n",
        "ypred_label = np.argmax(ypred, axis = 1)\n",
        "ypred_label"
      ],
      "metadata": {
        "colab": {
          "base_uri": "https://localhost:8080/"
        },
        "id": "RsAEaleSSXA0",
        "outputId": "a4fcffba-98ec-4bcf-8c19-d84ed8f64c25"
      },
      "execution_count": null,
      "outputs": [
        {
          "output_type": "execute_result",
          "data": {
            "text/plain": [
              "array([1, 0, 2, 1, 1, 0, 1, 2, 1, 1, 2, 0, 0, 0, 0, 1, 2, 1, 1, 2, 0, 2,\n",
              "       0, 2, 2, 2, 2, 2, 0, 0, 0, 0, 1, 0, 0, 2, 1, 0, 0, 0, 2, 1, 1, 0,\n",
              "       0])"
            ]
          },
          "metadata": {},
          "execution_count": 30
        }
      ]
    },
    {
      "cell_type": "code",
      "source": [
        "mdl.evaluate(X_test,y_test)"
      ],
      "metadata": {
        "colab": {
          "base_uri": "https://localhost:8080/"
        },
        "id": "5zRwX7eqWbn6",
        "outputId": "ed2eea3f-ac7e-440f-b2f7-48bffc7c16e4"
      },
      "execution_count": null,
      "outputs": [
        {
          "output_type": "stream",
          "name": "stdout",
          "text": [
            "2/2 [==============================] - 0s 6ms/step - loss: 0.0109 - accuracy: 1.0000\n"
          ]
        },
        {
          "output_type": "execute_result",
          "data": {
            "text/plain": [
              "[0.010913037694990635, 1.0]"
            ]
          },
          "metadata": {},
          "execution_count": 33
        }
      ]
    },
    {
      "cell_type": "markdown",
      "source": [
        "## Overfitting in Deep Learning"
      ],
      "metadata": {
        "id": "_ScdbDDLbN2t"
      }
    },
    {
      "cell_type": "code",
      "source": [
        "from sklearn.datasets import load_boston\n",
        "\n",
        "data = load_boston()\n",
        "\n",
        "X = data[\"data\"]\n",
        "y = data[\"target\"]\n",
        "\n",
        "X_train, X_test, y_train, y_test = train_test_split(X, y, test_size=0.3, random_state=42)\n",
        "\n",
        "mu = X_train.mean(axis = 0)\n",
        "sigma = X_train.std(axis = 0)\n",
        "\n",
        "X_train = (X_train - mu) / sigma\n",
        "X_test = (X_test - mu) / sigma\n",
        "X_train.shape"
      ],
      "metadata": {
        "id": "xoewNEqWbQOd"
      },
      "execution_count": null,
      "outputs": []
    },
    {
      "cell_type": "code",
      "source": [
        "mdl = keras.Sequential()\n",
        "\n",
        "mdl.add(layers.Dense(512, activation=\"relu\", input_shape = (X_train.shape[1], ) ))\n",
        "mdl.add(layers.Dropout(0.2))\n",
        "mdl.add(layers.Dense(256, activation = \"relu\"))\n",
        "mdl.add(layers.Dropout(0.2))\n",
        "mdl.add(layers.Dense(128, activation = \"relu\"))\n",
        "mdl.add(layers.Dropout(0.2))\n",
        "mdl.add(layers.Dense(64, activation = \"relu\"))\n",
        "mdl.add(layers.Dense(1, activation = \"linear\"))\n",
        "\n",
        "early_stop = keras.callbacks.EarlyStopping(monitor = \"val_loss\", patience=30)\n",
        "\n",
        "mdl.compile(optimizer=\"adam\", loss = \"mse\", metrics = [\"mape\"])\n",
        "history = mdl.fit(X_train, y_train, epochs=1000, verbose = 0, validation_split=0.1, callbacks=[early_stop])\n",
        "mdl.evaluate(X_train, y_train)\n",
        "mdl.evaluate(X_test, y_test)"
      ],
      "metadata": {
        "colab": {
          "base_uri": "https://localhost:8080/"
        },
        "id": "DYLRD9iEbk-b",
        "outputId": "5a37d667-95d0-4e00-e139-daa1901ef787"
      },
      "execution_count": null,
      "outputs": [
        {
          "output_type": "stream",
          "name": "stdout",
          "text": [
            "12/12 [==============================] - 0s 2ms/step - loss: 4.5821 - mape: 7.4625\n",
            "5/5 [==============================] - 0s 3ms/step - loss: 10.5214 - mape: 10.1262\n"
          ]
        },
        {
          "output_type": "execute_result",
          "data": {
            "text/plain": [
              "[10.521448135375977, 10.126232147216797]"
            ]
          },
          "metadata": {},
          "execution_count": 44
        }
      ]
    },
    {
      "cell_type": "code",
      "source": [
        "plt.figure(figsize = (12,4))\n",
        "plt.subplot(1,2,1)\n",
        "plt.plot(history.history[\"loss\"])\n",
        "plt.plot(history.history[\"val_loss\"])\n",
        "plt.ylim([0,20])\n",
        "\n",
        "plt.subplot(1,2,2)\n",
        "plt.plot(history.history[\"mape\"])\n",
        "plt.plot(history.history[\"val_mape\"])\n",
        "plt.ylim([0,20])"
      ],
      "metadata": {
        "colab": {
          "base_uri": "https://localhost:8080/",
          "height": 286
        },
        "id": "O2OeuGcGdOA5",
        "outputId": "bcccd7b5-d6d3-4548-9839-93101cfaa0fb"
      },
      "execution_count": null,
      "outputs": [
        {
          "output_type": "execute_result",
          "data": {
            "text/plain": [
              "(0.0, 20.0)"
            ]
          },
          "metadata": {},
          "execution_count": 45
        },
        {
          "output_type": "display_data",
          "data": {
            "text/plain": [
              "<Figure size 864x288 with 2 Axes>"
            ],
            "image/png": "[encoded data removed]"
          },
          "metadata": {
            "needs_background": "light"
          }
        }
      ]
    },
    {
      "cell_type": "markdown",
      "source": [
        "## Multi Layer Perceptron for Image Analysis"
      ],
      "metadata": {
        "id": "vuicFGwt5e5h"
      }
    },
    {
      "cell_type": "code",
      "source": [
        "(X_train, y_train), (X_test, y_test) = keras.datasets.fashion_mnist.load_data()"
      ],
      "metadata": {
        "colab": {
          "base_uri": "https://localhost:8080/"
        },
        "id": "NVME8aSVwNVR",
        "outputId": "7f1fe844-9f2e-48ed-8f09-86e4e36f9bf6"
      },
      "execution_count": null,
      "outputs": [
        {
          "output_type": "stream",
          "name": "stdout",
          "text": [
            "Downloading data from https://storage.googleapis.com/tensorflow/tf-keras-datasets/train-labels-idx1-ubyte.gz\n",
            "32768/29515 [=================================] - 0s 0us/step\n",
            "40960/29515 [=========================================] - 0s 0us/step\n",
            "Downloading data from https://storage.googleapis.com/tensorflow/tf-keras-datasets/train-images-idx3-ubyte.gz\n",
            "26427392/26421880 [==============================] - 0s 0us/step\n",
            "26435584/26421880 [==============================] - 0s 0us/step\n",
            "Downloading data from https://storage.googleapis.com/tensorflow/tf-keras-datasets/t10k-labels-idx1-ubyte.gz\n",
            "16384/5148 [===============================================================================================] - 0s 0us/step\n",
            "Downloading data from https://storage.googleapis.com/tensorflow/tf-keras-datasets/t10k-images-idx3-ubyte.gz\n",
            "4423680/4422102 [==============================] - 0s 0us/step\n",
            "4431872/4422102 [==============================] - 0s 0us/step\n"
          ]
        }
      ]
    },
    {
      "cell_type": "code",
      "source": [
        "X_train.shape"
      ],
      "metadata": {
        "colab": {
          "base_uri": "https://localhost:8080/"
        },
        "id": "KdbnX93nwbHw",
        "outputId": "2928ee45-4dd1-4f52-f826-54b4bb172bb1"
      },
      "execution_count": null,
      "outputs": [
        {
          "output_type": "execute_result",
          "data": {
            "text/plain": [
              "(60000, 28, 28)"
            ]
          },
          "metadata": {},
          "execution_count": 47
        }
      ]
    },
    {
      "cell_type": "code",
      "source": [
        "labels = [\"T-shirt\", \"Trouser\", \"Pullover\", \"Dress\", \"Coat\", \"Sandal\", \"Shirt\", \"Sneaker\", \"Bag\", \"Ankle boot\"]"
      ],
      "metadata": {
        "id": "xBRoPF9Gw9N7"
      },
      "execution_count": null,
      "outputs": []
    },
    {
      "cell_type": "code",
      "source": [
        "plt.imshow(X_train[0], \"gray\")\n",
        "print(labels[y_train[0]])"
      ],
      "metadata": {
        "id": "z-OZhSycwn3Y"
      },
      "execution_count": null,
      "outputs": []
    },
    {
      "cell_type": "code",
      "source": [
        "X_train = X_train.reshape(-1,28*28)\n",
        "X_test = X_test.reshape(-1,28*28)\n",
        "\n",
        "X_train = X_train / 255.0\n",
        "X_test = X_test / 255.0"
      ],
      "metadata": {
        "id": "Yzu5qRtzydAT"
      },
      "execution_count": null,
      "outputs": []
    },
    {
      "cell_type": "code",
      "source": [
        "mdl = keras.Sequential()\n",
        "\n",
        "mdl.add(layers.Dense(128, activation=\"relu\", input_shape = (X_train.shape[1], ) ))\n",
        "mdl.add(layers.Dense(64, activation = \"relu\"))\n",
        "mdl.add(layers.Dense(10, activation = \"softmax\"))\n",
        "\n",
        "mdl.compile(optimizer=\"adam\", loss = \"sparse_categorical_crossentropy\", metrics = [\"accuracy\"])\n",
        "mdl.fit(X_train, y_train, epochs=10)"
      ],
      "metadata": {
        "id": "_4dKtjHyy9ha"
      },
      "execution_count": null,
      "outputs": []
    },
    {
      "cell_type": "code",
      "source": [
        "mdl.evaluate(X_test, y_test)"
      ],
      "metadata": {
        "id": "hlbKo-BYzSUo"
      },
      "execution_count": null,
      "outputs": []
    },
    {
      "cell_type": "code",
      "source": [
        "(X_train, y_train), (X_test, y_test) = keras.datasets.fashion_mnist.load_data()\n",
        "\n",
        "X_train = X_train / 255.0\n",
        "X_test = X_test / 255.0\n",
        "X_train.shape"
      ],
      "metadata": {
        "colab": {
          "base_uri": "https://localhost:8080/"
        },
        "id": "ddcWfC2i0J8u",
        "outputId": "840c767a-2eee-4b6e-a2a9-4e87126ad263"
      },
      "execution_count": null,
      "outputs": [
        {
          "output_type": "execute_result",
          "data": {
            "text/plain": [
              "(60000, 28, 28)"
            ]
          },
          "metadata": {},
          "execution_count": 59
        }
      ]
    },
    {
      "cell_type": "code",
      "source": [
        "mdl = keras.Sequential()\n",
        "\n",
        "mdl.add(layers.Flatten(input_shape = (28,28)))\n",
        "mdl.add(layers.Dense(128, activation=\"relu\"))\n",
        "mdl.add(layers.Dense(64, activation = \"relu\"))\n",
        "mdl.add(layers.Dense(10, activation = \"softmax\"))\n",
        "\n",
        "mdl.compile(optimizer=\"adam\", loss = \"sparse_categorical_crossentropy\", metrics = [\"accuracy\"])\n",
        "mdl.fit(X_train, y_train, epochs=10)"
      ],
      "metadata": {
        "colab": {
          "base_uri": "https://localhost:8080/"
        },
        "id": "NGk-1rpK0TCL",
        "outputId": "8a11ca4e-2e39-4a9f-da9d-b911d06ef0a2"
      },
      "execution_count": null,
      "outputs": [
        {
          "output_type": "stream",
          "name": "stdout",
          "text": [
            "Epoch 1/10\n",
            "1875/1875 [==============================] - 5s 2ms/step - loss: 0.4941 - accuracy: 0.8240\n",
            "Epoch 2/10\n",
            "1875/1875 [==============================] - 4s 2ms/step - loss: 0.3696 - accuracy: 0.8642\n",
            "Epoch 3/10\n",
            "1875/1875 [==============================] - 4s 2ms/step - loss: 0.3344 - accuracy: 0.8769\n",
            "Epoch 4/10\n",
            "1875/1875 [==============================] - 4s 2ms/step - loss: 0.3110 - accuracy: 0.8843\n",
            "Epoch 5/10\n",
            "1875/1875 [==============================] - 4s 2ms/step - loss: 0.2943 - accuracy: 0.8895\n",
            "Epoch 6/10\n",
            "1875/1875 [==============================] - 4s 2ms/step - loss: 0.2781 - accuracy: 0.8960\n",
            "Epoch 7/10\n",
            "1875/1875 [==============================] - 4s 2ms/step - loss: 0.2655 - accuracy: 0.9005\n",
            "Epoch 8/10\n",
            "1875/1875 [==============================] - 4s 2ms/step - loss: 0.2543 - accuracy: 0.9053\n",
            "Epoch 9/10\n",
            "1875/1875 [==============================] - 4s 2ms/step - loss: 0.2461 - accuracy: 0.9079\n",
            "Epoch 10/10\n",
            "1875/1875 [==============================] - 4s 2ms/step - loss: 0.2354 - accuracy: 0.9115\n"
          ]
        },
        {
          "output_type": "execute_result",
          "data": {
            "text/plain": [
              "<keras.callbacks.History at 0x7f5705f12f10>"
            ]
          },
          "metadata": {},
          "execution_count": 60
        }
      ]
    },
    {
      "cell_type": "markdown",
      "source": [
        "## Convolutional Neural Networks"
      ],
      "metadata": {
        "id": "NyKB_Zxp5m5v"
      }
    },
    {
      "cell_type": "code",
      "source": [
        "(X_train, y_train), (X_test, y_test) = keras.datasets.fashion_mnist.load_data()\n",
        "\n",
        "\n",
        "X_train = X_train[..., np.newaxis]\n",
        "X_test = X_test[..., np.newaxis]\n",
        "\n",
        "X_train = X_train / 255.0\n",
        "X_test = X_test / 255.0\n",
        "X_train.shape"
      ],
      "metadata": {
        "colab": {
          "base_uri": "https://localhost:8080/"
        },
        "id": "ZHY735yt5cXb",
        "outputId": "2d3a9af6-d224-4398-9186-1c691d192696"
      },
      "execution_count": null,
      "outputs": [
        {
          "output_type": "stream",
          "name": "stdout",
          "text": [
            "Downloading data from https://storage.googleapis.com/tensorflow/tf-keras-datasets/train-labels-idx1-ubyte.gz\n",
            "32768/29515 [=================================] - 0s 0us/step\n",
            "40960/29515 [=========================================] - 0s 0us/step\n",
            "Downloading data from https://storage.googleapis.com/tensorflow/tf-keras-datasets/train-images-idx3-ubyte.gz\n",
            "26427392/26421880 [==============================] - 0s 0us/step\n",
            "26435584/26421880 [==============================] - 0s 0us/step\n",
            "Downloading data from https://storage.googleapis.com/tensorflow/tf-keras-datasets/t10k-labels-idx1-ubyte.gz\n",
            "16384/5148 [===============================================================================================] - 0s 0us/step\n",
            "Downloading data from https://storage.googleapis.com/tensorflow/tf-keras-datasets/t10k-images-idx3-ubyte.gz\n",
            "4423680/4422102 [==============================] - 0s 0us/step\n",
            "4431872/4422102 [==============================] - 0s 0us/step\n"
          ]
        },
        {
          "output_type": "execute_result",
          "data": {
            "text/plain": [
              "(60000, 28, 28, 1)"
            ]
          },
          "metadata": {},
          "execution_count": 2
        }
      ]
    },
    {
      "cell_type": "code",
      "source": [
        "mdl = keras.Sequential()\n",
        "\n",
        "mdl.add(layers.Conv2D(128, kernel_size = (3,3), activation=\"relu\", input_shape = X_train.shape[1:] ))\n",
        "mdl.add(layers.MaxPool2D(pool_size=(2,2)))\n",
        "mdl.add(layers.Conv2D(64, kernel_size = (3,3), activation=\"relu\" ))\n",
        "mdl.add(layers.MaxPool2D(pool_size=(2,2)))\n",
        "mdl.add(layers.Flatten())\n",
        "mdl.add(layers.Dense(128, activation=\"relu\"))\n",
        "mdl.add(layers.Dense(64, activation = \"relu\"))\n",
        "mdl.add(layers.Dense(10, activation = \"softmax\"))\n",
        "\n",
        "mdl.compile(optimizer=\"adam\", loss = \"sparse_categorical_crossentropy\", metrics = [\"accuracy\"])\n",
        "mdl.fit(X_train, y_train, epochs=10)"
      ],
      "metadata": {
        "colab": {
          "base_uri": "https://localhost:8080/"
        },
        "id": "iRjKes0n6hoa",
        "outputId": "6eedac0e-90e6-45db-dd82-66bd8a3fe547"
      },
      "execution_count": null,
      "outputs": [
        {
          "output_type": "stream",
          "name": "stdout",
          "text": [
            "Epoch 1/10\n",
            "1875/1875 [==============================] - 18s 3ms/step - loss: 0.4594 - accuracy: 0.8322\n",
            "Epoch 2/10\n",
            "1875/1875 [==============================] - 6s 3ms/step - loss: 0.3009 - accuracy: 0.8892\n",
            "Epoch 3/10\n",
            "1875/1875 [==============================] - 6s 3ms/step - loss: 0.2548 - accuracy: 0.9050\n",
            "Epoch 4/10\n",
            "1875/1875 [==============================] - 6s 3ms/step - loss: 0.2234 - accuracy: 0.9173\n",
            "Epoch 5/10\n",
            "1875/1875 [==============================] - 6s 3ms/step - loss: 0.1988 - accuracy: 0.9250\n",
            "Epoch 6/10\n",
            "1875/1875 [==============================] - 6s 3ms/step - loss: 0.1761 - accuracy: 0.9338\n",
            "Epoch 7/10\n",
            "1875/1875 [==============================] - 6s 3ms/step - loss: 0.1561 - accuracy: 0.9412\n",
            "Epoch 8/10\n",
            "1875/1875 [==============================] - 7s 4ms/step - loss: 0.1390 - accuracy: 0.9469\n",
            "Epoch 9/10\n",
            "1875/1875 [==============================] - 6s 3ms/step - loss: 0.1252 - accuracy: 0.9519\n",
            "Epoch 10/10\n",
            "1875/1875 [==============================] - 6s 3ms/step - loss: 0.1118 - accuracy: 0.9585\n"
          ]
        },
        {
          "output_type": "execute_result",
          "data": {
            "text/plain": [
              "<keras.callbacks.History at 0x7fc290078b90>"
            ]
          },
          "metadata": {},
          "execution_count": 3
        }
      ]
    },
    {
      "cell_type": "code",
      "source": [
        "from PIL import Image, ImageOps\n",
        "\n",
        "test = Image.open(\"test1.png\")\n",
        "test = ImageOps.grayscale(test)\n",
        "test = test.resize((28,28))\n",
        "test_array = np.asarray(test)\n",
        "plt.imshow(test_array, \"gray\")\n",
        "test_array = test_array.reshape(1,28,28,1)\n",
        "test_array = test_array / 255.0\n",
        "labels[np.argmax(mdl.predict(test_array))]"
      ],
      "metadata": {
        "colab": {
          "base_uri": "https://localhost:8080/",
          "height": 284
        },
        "id": "Z8LHiCx4Bu9S",
        "outputId": "f987a05b-ef6c-4d95-b8e3-264481b1892b"
      },
      "execution_count": null,
      "outputs": [
        {
          "output_type": "execute_result",
          "data": {
            "text/plain": [
              "'T-shirt'"
            ],
            "application/vnd.google.colaboratory.intrinsic+json": {
              "type": "string"
            }
          },
          "metadata": {},
          "execution_count": 19
        },
        {
          "output_type": "display_data",
          "data": {
            "text/plain": [
              "<Figure size 432x288 with 1 Axes>"
            ],
            "image/png": "[encoded data removed]"
          },
          "metadata": {
            "needs_background": "light"
          }
        }
      ]
    },
    {
      "cell_type": "code",
      "source": [
        "ypred = mdl.predict(X_test)\n",
        "ypred_label = np.argmax(ypred, axis = 1)"
      ],
      "metadata": {
        "id": "aCeUzNjTFVQi"
      },
      "execution_count": null,
      "outputs": []
    },
    {
      "cell_type": "code",
      "source": [
        "np.argmax(ypred, axis = 1)"
      ],
      "metadata": {
        "colab": {
          "base_uri": "https://localhost:8080/"
        },
        "id": "7hwaqRE0FhVa",
        "outputId": "50023092-9144-4f56-e40d-41dbea767964"
      },
      "execution_count": null,
      "outputs": [
        {
          "output_type": "execute_result",
          "data": {
            "text/plain": [
              "array([9, 2, 1, ..., 8, 1, 5])"
            ]
          },
          "metadata": {},
          "execution_count": 26
        }
      ]
    },
    {
      "cell_type": "code",
      "source": [
        "plt.figure(figsize = (16,8))\n",
        "\n",
        "for i in range(10):\n",
        "    plt.subplot(2,5, i + 1)\n",
        "    plt.imshow(X_test[i].reshape(28,28), \"gray\")\n",
        "    plt.title(labels[ypred_label[i]])\n",
        "    plt.axis(\"off\")"
      ],
      "metadata": {
        "colab": {
          "base_uri": "https://localhost:8080/",
          "height": 438
        },
        "id": "gutfIhp6EYXA",
        "outputId": "e57e281d-5558-41f9-a018-4cfd185efff2"
      },
      "execution_count": null,
      "outputs": [
        {
          "output_type": "display_data",
          "data": {
            "text/plain": [
              "<Figure size 1152x576 with 10 Axes>"
            ],
            "image/png": "[encoded data removed]"
          },
          "metadata": {
            "needs_background": "light"
          }
        }
      ]
    },
    {
      "cell_type": "code",
      "source": [
        "df = pd.read_excel(\"natural_gas.xlsx\")\n",
        "df.head()"
      ],
      "metadata": {
        "colab": {
          "base_uri": "https://localhost:8080/",
          "height": 206
        },
        "id": "iTydMFlILDtn",
        "outputId": "f600f775-89a7-438f-8f50-dee8ba3f76f2"
      },
      "execution_count": null,
      "outputs": [
        {
          "output_type": "execute_result",
          "data": {
            "text/plain": [
              "   Consumption  Temperature\n",
              "0  551547920.0     6.741935\n",
              "1  551886440.0     5.857143\n",
              "2  513182950.0     7.225806\n",
              "3  281495382.0    12.566667\n",
              "4  138625166.0    17.225806"
            ],
            "text/html": [
              "\n",
              "  <div id=\"df-aac92f2e-9d59-4b54-9a06-f2229f6d556e\">\n",
              "    <div class=\"colab-df-container\">\n",
              "      <div>\n",
              "<style scoped>\n",
              "    .dataframe tbody tr th:only-of-type {\n",
              "        vertical-align: middle;\n",
              "    }\n",
              "\n",
              "    .dataframe tbody tr th {\n",
              "        vertical-align: top;\n",
              "    }\n",
              "\n",
              "    .dataframe thead th {\n",
              "        text-align: right;\n",
              "    }\n",
              "</style>\n",
              "<table border=\"1\" class=\"dataframe\">\n",
              "  <thead>\n",
              "    <tr style=\"text-align: right;\">\n",
              "      <th></th>\n",
              "      <th>Consumption</th>\n",
              "      <th>Temperature</th>\n",
              "    </tr>\n",
              "  </thead>\n",
              "  <tbody>\n",
              "    <tr>\n",
              "      <th>0</th>\n",
              "      <td>551547920.0</td>\n",
              "      <td>6.741935</td>\n",
              "    </tr>\n",
              "    <tr>\n",
              "      <th>1</th>\n",
              "      <td>551886440.0</td>\n",
              "      <td>5.857143</td>\n",
              "    </tr>\n",
              "    <tr>\n",
              "      <th>2</th>\n",
              "      <td>513182950.0</td>\n",
              "      <td>7.225806</td>\n",
              "    </tr>\n",
              "    <tr>\n",
              "      <th>3</th>\n",
              "      <td>281495382.0</td>\n",
              "      <td>12.566667</td>\n",
              "    </tr>\n",
              "    <tr>\n",
              "      <th>4</th>\n",
              "      <td>138625166.0</td>\n",
              "      <td>17.225806</td>\n",
              "    </tr>\n",
              "  </tbody>\n",
              "</table>\n",
              "</div>\n",
              "      <button class=\"colab-df-convert\" onclick=\"convertToInteractive('df-aac92f2e-9d59-4b54-9a06-f2229f6d556e')\"\n",
              "              title=\"Convert this dataframe to an interactive table.\"\n",
              "              style=\"display:none;\">\n",
              "        \n",
              "  <svg xmlns=\"http://www.w3.org/2000/svg\" height=\"24px\"viewBox=\"0 0 24 24\"\n",
              "       width=\"24px\">\n",
              "    <path d=\"M0 0h24v24H0V0z\" fill=\"none\"/>\n",
              "    <path d=\"M18.56 5.44l.94 2.06.94-2.06 2.06-.94-2.06-.94-.94-2.06-.94 2.06-2.06.94zm-11 1L8.5 8.5l.94-2.06 2.06-.94-2.06-.94L8.5 2.5l-.94 2.06-2.06.94zm10 10l.94 2.06.94-2.06 2.06-.94-2.06-.94-.94-2.06-.94 2.06-2.06.94z\"/><path d=\"M17.41 7.96l-1.37-1.37c-.4-.4-.92-.59-1.43-.59-.52 0-1.04.2-1.43.59L10.3 9.45l-7.72 7.72c-.78.78-.78 2.05 0 2.83L4 21.41c.39.39.9.59 1.41.59.51 0 1.02-.2 1.41-.59l7.78-7.78 2.81-2.81c.8-.78.8-2.07 0-2.86zM5.41 20L4 18.59l7.72-7.72 1.47 1.35L5.41 20z\"/>\n",
              "  </svg>\n",
              "      </button>\n",
              "      \n",
              "  <style>\n",
              "    .colab-df-container {\n",
              "      display:flex;\n",
              "      flex-wrap:wrap;\n",
              "      gap: 12px;\n",
              "    }\n",
              "\n",
              "    .colab-df-convert {\n",
              "      background-color: #E8F0FE;\n",
              "      border: none;\n",
              "      border-radius: 50%;\n",
              "      cursor: pointer;\n",
              "      display: none;\n",
              "      fill: #1967D2;\n",
              "      height: 32px;\n",
              "      padding: 0 0 0 0;\n",
              "      width: 32px;\n",
              "    }\n",
              "\n",
              "    .colab-df-convert:hover {\n",
              "      background-color: #E2EBFA;\n",
              "      box-shadow: 0px 1px 2px rgba(60, 64, 67, 0.3), 0px 1px 3px 1px rgba(60, 64, 67, 0.15);\n",
              "      fill: #174EA6;\n",
              "    }\n",
              "\n",
              "    [theme=dark] .colab-df-convert {\n",
              "      background-color: #3B4455;\n",
              "      fill: #D2E3FC;\n",
              "    }\n",
              "\n",
              "    [theme=dark] .colab-df-convert:hover {\n",
              "      background-color: #434B5C;\n",
              "      box-shadow: 0px 1px 3px 1px rgba(0, 0, 0, 0.15);\n",
              "      filter: drop-shadow(0px 1px 2px rgba(0, 0, 0, 0.3));\n",
              "      fill: #FFFFFF;\n",
              "    }\n",
              "  </style>\n",
              "\n",
              "      <script>\n",
              "        const buttonEl =\n",
              "          document.querySelector('#df-aac92f2e-9d59-4b54-9a06-f2229f6d556e button.colab-df-convert');\n",
              "        buttonEl.style.display =\n",
              "          google.colab.kernel.accessAllowed ? 'block' : 'none';\n",
              "\n",
              "        async function convertToInteractive(key) {\n",
              "          const element = document.querySelector('#df-aac92f2e-9d59-4b54-9a06-f2229f6d556e');\n",
              "          const dataTable =\n",
              "            await google.colab.kernel.invokeFunction('convertToInteractive',\n",
              "                                                     [key], {});\n",
              "          if (!dataTable) return;\n",
              "\n",
              "          const docLinkHtml = 'Like what you see? Visit the ' +\n",
              "            '<a target=\"_blank\" href=https://colab.research.google.com/notebooks/data_table.ipynb>data table notebook</a>'\n",
              "            + ' to learn more about interactive tables.';\n",
              "          element.innerHTML = '';\n",
              "          dataTable['output_type'] = 'display_data';\n",
              "          await google.colab.output.renderOutput(dataTable, element);\n",
              "          const docLink = document.createElement('div');\n",
              "          docLink.innerHTML = docLinkHtml;\n",
              "          element.appendChild(docLink);\n",
              "        }\n",
              "      </script>\n",
              "    </div>\n",
              "  </div>\n",
              "  "
            ]
          },
          "metadata": {},
          "execution_count": 32
        }
      ]
    },
    {
      "cell_type": "code",
      "source": [
        "consumption = df[\"Consumption\"]\n",
        "\n",
        "def make_data(data, lag = 3):\n",
        "    X = []\n",
        "    y = []\n",
        "    for i in range(len(data)-lag):\n",
        "        X.append(data[i:i+lag])\n",
        "        y.append(data[i+lag])\n",
        "\n",
        "    return np.array(X), np.array(y)\n",
        "\n",
        "X, y = make_data(consumption, lag = 12)\n",
        "X.shape"
      ],
      "metadata": {
        "colab": {
          "base_uri": "https://localhost:8080/"
        },
        "id": "TnqmskuOLnTv",
        "outputId": "bcd465f1-0b28-40a8-9927-c799e5ad54c0"
      },
      "execution_count": null,
      "outputs": [
        {
          "output_type": "execute_result",
          "data": {
            "text/plain": [
              "(118, 12)"
            ]
          },
          "metadata": {},
          "execution_count": 44
        }
      ]
    },
    {
      "cell_type": "code",
      "source": [
        "X_train = X[:-12]\n",
        "y_train = y[:-12]\n",
        "\n",
        "X_test = X[-12:]\n",
        "y_test = y[-12:]\n",
        "\n",
        "mu = y_train.mean()\n",
        "sigma = y_train.std()\n",
        "\n",
        "X_train = (X_train - mu) / sigma\n",
        "y_train = (y_train - mu) / sigma\n",
        "\n",
        "X_test = (X_test - mu) / sigma\n",
        "y_test = (y_test - mu) / sigma\n",
        "\n",
        "X_train = X_train[..., np.newaxis]\n",
        "X_test = X_test[..., np.newaxis]\n",
        "X_train.shape"
      ],
      "metadata": {
        "colab": {
          "base_uri": "https://localhost:8080/"
        },
        "id": "ZjOvSeTyMuUO",
        "outputId": "0cae867f-bcac-40fb-8cbe-6327c49f7407"
      },
      "execution_count": null,
      "outputs": [
        {
          "output_type": "execute_result",
          "data": {
            "text/plain": [
              "(106, 12, 1)"
            ]
          },
          "metadata": {},
          "execution_count": 45
        }
      ]
    },
    {
      "cell_type": "code",
      "source": [
        "mdl = keras.Sequential()\n",
        "\n",
        "mdl.add(layers.LSTM(64, input_shape = X_train.shape[1:]))\n",
        "mdl.add(layers.Dense(64, activation=\"relu\"))\n",
        "mdl.add(layers.Dense(1))\n",
        "\n",
        "mdl.compile(optimizer=\"adam\", loss = \"mse\", metrics = [\"mae\"])\n",
        "mdl.fit(X_train, y_train, epochs=100)"
      ],
      "metadata": {
        "id": "6DLCt3NYNhIg"
      },
      "execution_count": null,
      "outputs": []
    },
    {
      "cell_type": "code",
      "source": [
        "ypred = mdl.predict(X_test)\n",
        "\n",
        "plt.plot(y_test, \"-ob\", label = \"observed\")\n",
        "plt.plot(ypred, \"-*r\", label = \"forecasted\")\n",
        "plt.grid()\n",
        "plt.legend()"
      ],
      "metadata": {
        "colab": {
          "base_uri": "https://localhost:8080/",
          "height": 282
        },
        "id": "uIhQCk2YOYqe",
        "outputId": "269abe25-dfa5-4935-b6a0-5eb8b0273651"
      },
      "execution_count": null,
      "outputs": [
        {
          "output_type": "execute_result",
          "data": {
            "text/plain": [
              "<matplotlib.legend.Legend at 0x7fc216b1d090>"
            ]
          },
          "metadata": {},
          "execution_count": 47
        },
        {
          "output_type": "display_data",
          "data": {
            "text/plain": [
              "<Figure size 432x288 with 1 Axes>"
            ],
            "image/png": "[encoded data removed]"
          },
          "metadata": {
            "needs_background": "light"
          }
        }
      ]
    },
    {
      "cell_type": "code",
      "source": [
        "(X_train, y_train), (X_test, y_test) = keras.datasets.fashion_mnist.load_data()\n",
        "\n",
        "X_train = X_train.reshape(-1,28*28)\n",
        "X_test = X_test.reshape(-1,28*28)\n",
        "\n",
        "X_train = X_train / 255.0\n",
        "X_test = X_test / 255.0\n",
        "X_train.shape"
      ],
      "metadata": {
        "colab": {
          "base_uri": "https://localhost:8080/"
        },
        "id": "AuI2UGnSP5dY",
        "outputId": "fe64b0af-dcb9-47c5-eb20-538b21eda797"
      },
      "execution_count": null,
      "outputs": [
        {
          "output_type": "execute_result",
          "data": {
            "text/plain": [
              "(60000, 784)"
            ]
          },
          "metadata": {},
          "execution_count": 49
        }
      ]
    },
    {
      "cell_type": "code",
      "source": [
        "mdl = keras.Sequential()\n",
        "\n",
        "\n",
        "mdl.add(layers.Dense(512, activation=\"relu\", input_shape = (784, )))\n",
        "mdl.add(layers.Dense(256, activation=\"relu\"))\n",
        "mdl.add(layers.Dense(512, activation=\"relu\"))\n",
        "mdl.add(layers.Dense(28*28, activation=\"sigmoid\"))\n",
        "\n",
        "mdl.compile(optimizer=\"adam\", loss = \"mse\", metrics = [\"mae\"])\n",
        "mdl.fit(X_train, X_train, epochs=10)"
      ],
      "metadata": {
        "colab": {
          "base_uri": "https://localhost:8080/"
        },
        "id": "NK8gOdfJQAgU",
        "outputId": "dfb99bd1-a215-4e37-d4d1-6f2b4c3dc83b"
      },
      "execution_count": null,
      "outputs": [
        {
          "output_type": "stream",
          "name": "stdout",
          "text": [
            "Epoch 1/10\n",
            "1875/1875 [==============================] - 5s 3ms/step - loss: 0.0165 - mae: 0.0720\n",
            "Epoch 2/10\n",
            "1875/1875 [==============================] - 5s 2ms/step - loss: 0.0085 - mae: 0.0510\n",
            "Epoch 3/10\n",
            "1875/1875 [==============================] - 5s 2ms/step - loss: 0.0069 - mae: 0.0459\n",
            "Epoch 4/10\n",
            "1875/1875 [==============================] - 5s 2ms/step - loss: 0.0061 - mae: 0.0430\n",
            "Epoch 5/10\n",
            "1875/1875 [==============================] - 6s 3ms/step - loss: 0.0055 - mae: 0.0411\n",
            "Epoch 6/10\n",
            "1875/1875 [==============================] - 5s 2ms/step - loss: 0.0051 - mae: 0.0395\n",
            "Epoch 7/10\n",
            "1875/1875 [==============================] - 4s 2ms/step - loss: 0.0048 - mae: 0.0383\n",
            "Epoch 8/10\n",
            "1875/1875 [==============================] - 5s 2ms/step - loss: 0.0046 - mae: 0.0374\n",
            "Epoch 9/10\n",
            "1875/1875 [==============================] - 5s 2ms/step - loss: 0.0044 - mae: 0.0366\n",
            "Epoch 10/10\n",
            "1875/1875 [==============================] - 5s 2ms/step - loss: 0.0043 - mae: 0.0359\n"
          ]
        },
        {
          "output_type": "execute_result",
          "data": {
            "text/plain": [
              "<keras.callbacks.History at 0x7fc16a5da710>"
            ]
          },
          "metadata": {},
          "execution_count": 52
        }
      ]
    },
    {
      "cell_type": "code",
      "source": [
        "X_test_reconstructed = mdl.predict(X_test)\n",
        "\n",
        "plt.figure(figsize = (16,8))\n",
        "\n",
        "for i in range(5):\n",
        "    plt.subplot(2,5, i + 1)\n",
        "    plt.imshow(X_test[i].reshape(28,28), \"gray\")\n",
        "    plt.title(\"Original\")\n",
        "    plt.axis(\"off\")\n",
        "\n",
        "    plt.subplot(2,5, i + 5 + 1)\n",
        "    plt.imshow(X_test_reconstructed[i].reshape(28,28), \"gray\")\n",
        "    plt.title(\"Reconstructed\")\n",
        "    plt.axis(\"off\")"
      ],
      "metadata": {
        "id": "6e1W65OuRm4G"
      },
      "execution_count": null,
      "outputs": []
    },
    {
      "cell_type": "code",
      "source": [
        "noise_factor = 0.2\n",
        "\n",
        "X_train_noisy = X_train + noise_factor * np.random.normal(size = X_train.shape)\n",
        "X_test_noisy = X_test + noise_factor * np.random.normal(size = X_test.shape)\n",
        "\n",
        "X_train_noisy = np.clip(X_train_noisy, 0,1)\n",
        "X_test_noisy = np.clip(X_test_noisy, 0,1)"
      ],
      "metadata": {
        "id": "sc0_ABOwSqkL"
      },
      "execution_count": null,
      "outputs": []
    },
    {
      "cell_type": "code",
      "source": [
        "plt.figure(figsize = (12,6))\n",
        "\n",
        "for i in range(5):\n",
        "    plt.subplot(1,5, i + 1)\n",
        "    plt.imshow(X_train_noisy[i].reshape(28,28), \"gray\")\n",
        "    plt.title(\"Original\")\n",
        "    plt.axis(\"off\")"
      ],
      "metadata": {
        "colab": {
          "base_uri": "https://localhost:8080/",
          "height": 162
        },
        "id": "6N-_mAstTOfL",
        "outputId": "b6b310f9-afaf-4c0b-a810-085263ebc87f"
      },
      "execution_count": null,
      "outputs": [
        {
          "output_type": "display_data",
          "data": {
            "text/plain": [
              "<Figure size 864x432 with 5 Axes>"
            ],
            "image/png": "[encoded data removed]"
          },
          "metadata": {
            "needs_background": "light"
          }
        }
      ]
    },
    {
      "cell_type": "code",
      "source": [
        "mdl = keras.Sequential()\n",
        "\n",
        "\n",
        "mdl.add(layers.Dense(512, activation=\"relu\", input_shape = (784, )))\n",
        "mdl.add(layers.Dense(256, activation=\"relu\"))\n",
        "mdl.add(layers.Dense(512, activation=\"relu\"))\n",
        "mdl.add(layers.Dense(28*28, activation=\"sigmoid\"))\n",
        "\n",
        "mdl.compile(optimizer=\"adam\", loss = \"mse\", metrics = [\"mae\"])\n",
        "mdl.fit(X_train_noisy, X_train, epochs=10)"
      ],
      "metadata": {
        "colab": {
          "base_uri": "https://localhost:8080/"
        },
        "id": "lIkT_hoGTf6M",
        "outputId": "4b92d7b5-356a-4a4f-e9d1-0a778662f2d6"
      },
      "execution_count": null,
      "outputs": [
        {
          "output_type": "stream",
          "name": "stdout",
          "text": [
            "Epoch 1/10\n",
            "1875/1875 [==============================] - 5s 3ms/step - loss: 0.0197 - mae: 0.0802\n",
            "Epoch 2/10\n",
            "1875/1875 [==============================] - 5s 3ms/step - loss: 0.0120 - mae: 0.0605\n",
            "Epoch 3/10\n",
            "1875/1875 [==============================] - 5s 2ms/step - loss: 0.0106 - mae: 0.0562\n",
            "Epoch 4/10\n",
            "1875/1875 [==============================] - 5s 3ms/step - loss: 0.0098 - mae: 0.0539\n",
            "Epoch 5/10\n",
            "1875/1875 [==============================] - 5s 2ms/step - loss: 0.0094 - mae: 0.0524\n",
            "Epoch 6/10\n",
            "1875/1875 [==============================] - 5s 2ms/step - loss: 0.0091 - mae: 0.0513\n",
            "Epoch 7/10\n",
            "1875/1875 [==============================] - 5s 2ms/step - loss: 0.0088 - mae: 0.0505\n",
            "Epoch 8/10\n",
            "1875/1875 [==============================] - 5s 3ms/step - loss: 0.0087 - mae: 0.0499\n",
            "Epoch 9/10\n",
            "1875/1875 [==============================] - 5s 3ms/step - loss: 0.0085 - mae: 0.0493\n",
            "Epoch 10/10\n",
            "1875/1875 [==============================] - 5s 3ms/step - loss: 0.0084 - mae: 0.0489\n"
          ]
        },
        {
          "output_type": "execute_result",
          "data": {
            "text/plain": [
              "<keras.callbacks.History at 0x7fc16a305b50>"
            ]
          },
          "metadata": {},
          "execution_count": 58
        }
      ]
    },
    {
      "cell_type": "code",
      "source": [
        "X_test_reconstructed = mdl.predict(X_test_noisy)\n",
        "\n",
        "plt.figure(figsize = (16,8))\n",
        "\n",
        "for i in range(5):\n",
        "    plt.subplot(2,5, i + 1)\n",
        "    plt.imshow(X_test_noisy[i].reshape(28,28), \"gray\")\n",
        "    plt.title(\"Noisy\")\n",
        "    plt.axis(\"off\")\n",
        "\n",
        "    plt.subplot(2,5, i + 5 + 1)\n",
        "    plt.imshow(X_test_reconstructed[i].reshape(28,28), \"gray\")\n",
        "    plt.title(\"Reconstructed\")\n",
        "    plt.axis(\"off\")"
      ],
      "metadata": {
        "colab": {
          "base_uri": "https://localhost:8080/",
          "height": 438
        },
        "id": "VdDte1xcTv6L",
        "outputId": "0db52fb6-a120-4bb6-c10e-3916962f2dbc"
      },
      "execution_count": null,
      "outputs": [
        {
          "output_type": "display_data",
          "data": {
            "text/plain": [
              "<Figure size 1152x576 with 10 Axes>"
            ],
            "image/png": "[encoded data removed]"
          },
          "metadata": {
            "needs_background": "light"
          }
        }
      ]
    }
  ]
}